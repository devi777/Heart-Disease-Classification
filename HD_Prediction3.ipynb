{
  "nbformat": 4,
  "nbformat_minor": 0,
  "metadata": {
    "kernelspec": {
      "display_name": "Python 3",
      "language": "python",
      "name": "python3"
    },
    "language_info": {
      "codemirror_mode": {
        "name": "ipython",
        "version": 3
      },
      "file_extension": ".py",
      "mimetype": "text/x-python",
      "name": "python",
      "nbconvert_exporter": "python",
      "pygments_lexer": "ipython3",
      "version": "3.7.6"
    },
    "colab": {
      "name": "HD_Prediction3.ipynb",
      "provenance": [],
      "include_colab_link": true
    }
  },
  "cells": [
    {
      "cell_type": "markdown",
      "metadata": {
        "id": "view-in-github",
        "colab_type": "text"
      },
      "source": [
        "<a href=\"https://colab.research.google.com/github/devi777/Heart-Disease-Classification/blob/master/HD_Prediction3.ipynb\" target=\"_parent\"><img src=\"https://colab.research.google.com/assets/colab-badge.svg\" alt=\"Open In Colab\"/></a>"
      ]
    },
    {
      "cell_type": "markdown",
      "metadata": {
        "id": "3D0o9HXFZwKG",
        "colab_type": "text"
      },
      "source": [
        "# Contents\n",
        "\n",
        "1. SVM\n",
        "2. Kernel SVM\n",
        "3. Naive Bayes"
      ]
    },
    {
      "cell_type": "markdown",
      "metadata": {
        "id": "cy1PVEds-RmU",
        "colab_type": "text"
      },
      "source": [
        "# Pre-processing Data"
      ]
    },
    {
      "cell_type": "code",
      "metadata": {
        "id": "LbDVm6Ka-RmV",
        "colab_type": "code",
        "colab": {}
      },
      "source": [
        "# Importing the libraries\n",
        "import numpy as np\n",
        "import pandas as pd\n",
        "import matplotlib.pyplot as plt\n",
        "import seaborn as sns\n",
        "from sklearn.model_selection import train_test_split\n",
        "import warnings\n",
        "warnings.filterwarnings('ignore')"
      ],
      "execution_count": 0,
      "outputs": []
    },
    {
      "cell_type": "code",
      "metadata": {
        "id": "gzIPyCxk-RmZ",
        "colab_type": "code",
        "colab": {}
      },
      "source": [
        "# Importing the dataset\n",
        "df = pd.read_csv('heart.csv')"
      ],
      "execution_count": 0,
      "outputs": []
    },
    {
      "cell_type": "code",
      "metadata": {
        "id": "pChS7bC8-Rmc",
        "colab_type": "code",
        "colab": {}
      },
      "source": [
        "X = df.iloc[:,:-1].values\n",
        "y = df.iloc[:,-1].values"
      ],
      "execution_count": 0,
      "outputs": []
    },
    {
      "cell_type": "code",
      "metadata": {
        "id": "9xRyufoh-Rme",
        "colab_type": "code",
        "colab": {}
      },
      "source": [
        "# Splitting the dataset into the Training set and Test set\n",
        "from sklearn.model_selection import train_test_split\n",
        "X_train, X_test, y_train, y_test = train_test_split(X, y, test_size = 1/5, random_state = 0)"
      ],
      "execution_count": 0,
      "outputs": []
    },
    {
      "cell_type": "code",
      "metadata": {
        "id": "8xcGHkuo-Rmi",
        "colab_type": "code",
        "colab": {}
      },
      "source": [
        "# Feature Scaling\n",
        "from sklearn.preprocessing import StandardScaler\n",
        "sc = StandardScaler()\n",
        "X_train = sc.fit_transform(X_train)\n",
        "X_test = sc.transform(X_test)"
      ],
      "execution_count": 0,
      "outputs": []
    },
    {
      "cell_type": "markdown",
      "metadata": {
        "id": "nCReHwx5-Rml",
        "colab_type": "text"
      },
      "source": [
        "# Analyzing Data using SVM"
      ]
    },
    {
      "cell_type": "markdown",
      "metadata": {
        "id": "kQevuNOj-Rml",
        "colab_type": "text"
      },
      "source": [
        "Documentation: https://scikit-learn.org/stable/modules/svm.html"
      ]
    },
    {
      "cell_type": "markdown",
      "metadata": {
        "id": "D-1956Tc-Rmm",
        "colab_type": "text"
      },
      "source": [
        "So, in SVM, we find the boundary line which has the maximum equidistant margin between the 2 closest points of the different classes."
      ]
    },
    {
      "cell_type": "code",
      "metadata": {
        "id": "SZ1wJ7xQ-Rmm",
        "colab_type": "code",
        "outputId": "48a81e1b-5031-4373-cf3f-decb81d8c0c4",
        "colab": {}
      },
      "source": [
        "# Fitting classifier to the Training set\n",
        "from sklearn.svm import SVC\n",
        "classifier = SVC(kernel='sigmoid',random_state=0)\n",
        "classifier.fit(X_train,y_train)"
      ],
      "execution_count": 0,
      "outputs": [
        {
          "output_type": "execute_result",
          "data": {
            "text/plain": [
              "SVC(C=1.0, break_ties=False, cache_size=200, class_weight=None, coef0=0.0,\n",
              "    decision_function_shape='ovr', degree=3, gamma='scale', kernel='sigmoid',\n",
              "    max_iter=-1, probability=False, random_state=0, shrinking=True, tol=0.001,\n",
              "    verbose=False)"
            ]
          },
          "metadata": {
            "tags": []
          },
          "execution_count": 6
        }
      ]
    },
    {
      "cell_type": "code",
      "metadata": {
        "id": "ROylo63B-Rmq",
        "colab_type": "code",
        "outputId": "82f29055-8271-4dbe-87c1-f969b0cc8e40",
        "colab": {}
      },
      "source": [
        "print('Test accuracy {:.2f}%'.format(classifier.score(X_test,y_test)*100))"
      ],
      "execution_count": 0,
      "outputs": [
        {
          "output_type": "stream",
          "text": [
            "Test accuracy 83.61%\n"
          ],
          "name": "stdout"
        }
      ]
    },
    {
      "cell_type": "code",
      "metadata": {
        "id": "WSm-QlcE-Rmt",
        "colab_type": "code",
        "colab": {}
      },
      "source": [
        "# Predicting the Test set results\n",
        "y_pred = classifier.predict(X_test)"
      ],
      "execution_count": 0,
      "outputs": []
    },
    {
      "cell_type": "code",
      "metadata": {
        "id": "3u0pG-tv-Rmw",
        "colab_type": "code",
        "outputId": "c4e81324-5901-4624-fc76-65492ac81459",
        "colab": {}
      },
      "source": [
        "# Making the Confusion Matrix\n",
        "from sklearn.metrics import confusion_matrix\n",
        "cm = confusion_matrix(y_test, y_pred)\n",
        "print(cm)"
      ],
      "execution_count": 0,
      "outputs": [
        {
          "output_type": "stream",
          "text": [
            "[[20  7]\n",
            " [ 3 31]]\n"
          ],
          "name": "stdout"
        }
      ]
    },
    {
      "cell_type": "code",
      "metadata": {
        "id": "BOylnwdZ-Rm0",
        "colab_type": "code",
        "outputId": "ef923060-ed89-4294-82f4-411fe68af77c",
        "colab": {}
      },
      "source": [
        "print(\"Accuracy:\",str(round((20+31)/(20+7+31+3)*100,2)), \"%\")"
      ],
      "execution_count": 0,
      "outputs": [
        {
          "output_type": "stream",
          "text": [
            "Accuracy: 83.61 %\n"
          ],
          "name": "stdout"
        }
      ]
    },
    {
      "cell_type": "markdown",
      "metadata": {
        "id": "nHRccBgg-Rm3",
        "colab_type": "text"
      },
      "source": [
        "Good, so SVM performs well on this dataset too. So we can look into the parameters of SVM too, but let's just view all the types of classification and then later check them out."
      ]
    },
    {
      "cell_type": "markdown",
      "metadata": {
        "id": "qdAXZs0P-Rm4",
        "colab_type": "text"
      },
      "source": [
        "# Analyzing Data using Kernel SVM"
      ]
    },
    {
      "cell_type": "markdown",
      "metadata": {
        "id": "4gWHOPsk-Rm5",
        "colab_type": "text"
      },
      "source": [
        "Documentation: https://scikit-learn.org/stable/modules/generated/sklearn.svm.SVC.html"
      ]
    },
    {
      "cell_type": "markdown",
      "metadata": {
        "id": "Zy1w73a2-Rm5",
        "colab_type": "text"
      },
      "source": [
        "Kernel SVM can handle non-linearity in data unlike SVM. "
      ]
    },
    {
      "cell_type": "markdown",
      "metadata": {
        "id": "n85lLvQC-Rm6",
        "colab_type": "text"
      },
      "source": [
        "## Kernel Functions \n",
        "1. Polynomial\n",
        "2. Gaussian\n",
        "3. RBF \n",
        "4. Sigmoid"
      ]
    },
    {
      "cell_type": "code",
      "metadata": {
        "id": "7JLFrJkg-Rm6",
        "colab_type": "code",
        "outputId": "a139d9d4-0265-4392-cb7c-de3995d03b64",
        "colab": {}
      },
      "source": [
        "# Fitting classifier to the Training set\n",
        "from sklearn.svm import SVC\n",
        "classifier = SVC(kernel='rbf',random_state =0)\n",
        "classifier.fit(X_train,y_train)"
      ],
      "execution_count": 0,
      "outputs": [
        {
          "output_type": "execute_result",
          "data": {
            "text/plain": [
              "SVC(C=1.0, break_ties=False, cache_size=200, class_weight=None, coef0=0.0,\n",
              "    decision_function_shape='ovr', degree=3, gamma='scale', kernel='rbf',\n",
              "    max_iter=-1, probability=False, random_state=0, shrinking=True, tol=0.001,\n",
              "    verbose=False)"
            ]
          },
          "metadata": {
            "tags": []
          },
          "execution_count": 11
        }
      ]
    },
    {
      "cell_type": "code",
      "metadata": {
        "id": "uKymjR4q-Rm8",
        "colab_type": "code",
        "outputId": "e9940df5-6d6b-4baf-d31d-1a5e58201ed5",
        "colab": {}
      },
      "source": [
        "print('Test accuracy {:.2f}%'.format(classifier.score(X_test,y_test)*100))"
      ],
      "execution_count": 0,
      "outputs": [
        {
          "output_type": "stream",
          "text": [
            "Test accuracy 86.89%\n"
          ],
          "name": "stdout"
        }
      ]
    },
    {
      "cell_type": "code",
      "metadata": {
        "id": "bKgcu8c6-Rm_",
        "colab_type": "code",
        "colab": {}
      },
      "source": [
        "# Predicting the Test set results\n",
        "y_pred = classifier.predict(X_test)"
      ],
      "execution_count": 0,
      "outputs": []
    },
    {
      "cell_type": "code",
      "metadata": {
        "id": "Rqj4mU2H-RnC",
        "colab_type": "code",
        "outputId": "40e90c61-1987-476b-d25a-cc66c992af60",
        "colab": {}
      },
      "source": [
        "# Making the Confusion Matrix\n",
        "from sklearn.metrics import confusion_matrix\n",
        "cm = confusion_matrix(y_test, y_pred)\n",
        "print(cm)"
      ],
      "execution_count": 0,
      "outputs": [
        {
          "output_type": "stream",
          "text": [
            "[[21  6]\n",
            " [ 2 32]]\n"
          ],
          "name": "stdout"
        }
      ]
    },
    {
      "cell_type": "code",
      "metadata": {
        "id": "aFPKD2jN-RnE",
        "colab_type": "code",
        "outputId": "4c6c0550-b65e-4951-c6ba-807eb2761433",
        "colab": {}
      },
      "source": [
        "print(\"Accuracy:\",str(round((21+32)/(21+6+32+2)*100,2)), \"%\")"
      ],
      "execution_count": 0,
      "outputs": [
        {
          "output_type": "stream",
          "text": [
            "Accuracy: 86.89 %\n"
          ],
          "name": "stdout"
        }
      ]
    },
    {
      "cell_type": "markdown",
      "metadata": {
        "id": "GUVPlARP-RnH",
        "colab_type": "text"
      },
      "source": [
        "Great, looks like RBF fits better. Cool, let's move ahead and try Naive Bayes Classification."
      ]
    },
    {
      "cell_type": "markdown",
      "metadata": {
        "id": "ec5aETJ1-RnH",
        "colab_type": "text"
      },
      "source": [
        "# Analyzing using Naive Bayes "
      ]
    },
    {
      "cell_type": "markdown",
      "metadata": {
        "id": "0IuqEi5G-RnI",
        "colab_type": "text"
      },
      "source": [
        "Documentation: "
      ]
    },
    {
      "cell_type": "markdown",
      "metadata": {
        "id": "sbvxF_SA-RnI",
        "colab_type": "text"
      },
      "source": [
        "A Naive Bayes classifier is a probabilistic machine learning model that’s used for classification task. The crux of the classifier is based on the Bayes theorem. "
      ]
    },
    {
      "cell_type": "code",
      "metadata": {
        "id": "CIuDxJQO-RnJ",
        "colab_type": "code",
        "outputId": "5b1e37f5-0813-499f-9533-fff248999f0d",
        "colab": {}
      },
      "source": [
        "# Fitting classifier to the Training set\n",
        "from sklearn.naive_bayes import GaussianNB\n",
        "classifier = GaussianNB()\n",
        "classifier.fit(X_train,y_train)"
      ],
      "execution_count": 0,
      "outputs": [
        {
          "output_type": "execute_result",
          "data": {
            "text/plain": [
              "GaussianNB(priors=None, var_smoothing=1e-09)"
            ]
          },
          "metadata": {
            "tags": []
          },
          "execution_count": 18
        }
      ]
    },
    {
      "cell_type": "code",
      "metadata": {
        "id": "SPectLjd-RnM",
        "colab_type": "code",
        "outputId": "2be69dab-77e1-473c-e3e6-57dba9e4cb40",
        "colab": {}
      },
      "source": [
        "print('Test accuracy {:.2f}%'.format(classifier.score(X_test,y_test)*100))"
      ],
      "execution_count": 0,
      "outputs": [
        {
          "output_type": "stream",
          "text": [
            "Test accuracy 85.25%\n"
          ],
          "name": "stdout"
        }
      ]
    },
    {
      "cell_type": "code",
      "metadata": {
        "id": "6FE1PzHQ-RnR",
        "colab_type": "code",
        "colab": {}
      },
      "source": [
        "# Predicting the Test set results\n",
        "y_pred = classifier.predict(X_test)"
      ],
      "execution_count": 0,
      "outputs": []
    },
    {
      "cell_type": "code",
      "metadata": {
        "id": "xUOgwaRO-RnU",
        "colab_type": "code",
        "outputId": "21e11cc8-0226-4a99-8078-fcd630542558",
        "colab": {}
      },
      "source": [
        "# Making the Confusion Matrix\n",
        "from sklearn.metrics import confusion_matrix\n",
        "cm = confusion_matrix(y_test, y_pred)\n",
        "print(cm)"
      ],
      "execution_count": 0,
      "outputs": [
        {
          "output_type": "stream",
          "text": [
            "[[21  6]\n",
            " [ 3 31]]\n"
          ],
          "name": "stdout"
        }
      ]
    },
    {
      "cell_type": "code",
      "metadata": {
        "id": "aET-9FcZ-RnW",
        "colab_type": "code",
        "outputId": "b53570d7-d1b3-48da-c248-db4ef9b7100d",
        "colab": {}
      },
      "source": [
        "print(\"Accuracy:\",str(round((21+31)/(21+6+31+3)*100,2)), \"%\")"
      ],
      "execution_count": 0,
      "outputs": [
        {
          "output_type": "stream",
          "text": [
            "Accuracy: 85.25 %\n"
          ],
          "name": "stdout"
        }
      ]
    },
    {
      "cell_type": "markdown",
      "metadata": {
        "id": "GBrhW6pc-RnY",
        "colab_type": "text"
      },
      "source": [
        "Well, Naive Bayes performs almost equilvalent to Kernel SVM. We have a 1.64% difference because of 1 test example. Having more data might have trained the machine better (unless it's high bias).  "
      ]
    },
    {
      "cell_type": "code",
      "metadata": {
        "id": "OMQ3aOGn-RnY",
        "colab_type": "code",
        "colab": {}
      },
      "source": [
        ""
      ],
      "execution_count": 0,
      "outputs": []
    }
  ]
}