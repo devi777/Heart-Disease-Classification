{
  "nbformat": 4,
  "nbformat_minor": 0,
  "metadata": {
    "kernelspec": {
      "display_name": "Python 3",
      "language": "python",
      "name": "python3"
    },
    "language_info": {
      "codemirror_mode": {
        "name": "ipython",
        "version": 3
      },
      "file_extension": ".py",
      "mimetype": "text/x-python",
      "name": "python",
      "nbconvert_exporter": "python",
      "pygments_lexer": "ipython3",
      "version": "3.7.6"
    },
    "colab": {
      "name": "HD_Prediction2.ipynb",
      "provenance": [],
      "include_colab_link": true
    }
  },
  "cells": [
    {
      "cell_type": "markdown",
      "metadata": {
        "id": "view-in-github",
        "colab_type": "text"
      },
      "source": [
        "<a href=\"https://colab.research.google.com/github/devi777/Heart-Disease-Classification/blob/master/HD_Prediction2.ipynb\" target=\"_parent\"><img src=\"https://colab.research.google.com/assets/colab-badge.svg\" alt=\"Open In Colab\"/></a>"
      ]
    },
    {
      "cell_type": "markdown",
      "metadata": {
        "id": "SB2Ou66qZUqG",
        "colab_type": "text"
      },
      "source": [
        "# Contents\n",
        "\n",
        "1. K-nearest Neighbors"
      ]
    },
    {
      "cell_type": "markdown",
      "metadata": {
        "id": "qap5YFuXU7CU",
        "colab_type": "text"
      },
      "source": [
        "# Pre-processing Data"
      ]
    },
    {
      "cell_type": "code",
      "metadata": {
        "id": "p5YbayeJU7CV",
        "colab_type": "code",
        "colab": {}
      },
      "source": [
        "import numpy as np\n",
        "import pandas as pd\n",
        "import matplotlib.pyplot as plt\n",
        "import seaborn as sns\n",
        "from sklearn.model_selection import train_test_split\n",
        "import warnings\n",
        "warnings.filterwarnings('ignore')"
      ],
      "execution_count": 0,
      "outputs": []
    },
    {
      "cell_type": "code",
      "metadata": {
        "id": "Pwdo77jYU7CY",
        "colab_type": "code",
        "colab": {}
      },
      "source": [
        "df = pd.read_csv('heart.csv')"
      ],
      "execution_count": 0,
      "outputs": []
    },
    {
      "cell_type": "code",
      "metadata": {
        "id": "hkFd1YSlU7Cb",
        "colab_type": "code",
        "colab": {}
      },
      "source": [
        "X = df.iloc[:,:-1].values\n",
        "y = df.iloc[:,-1].values"
      ],
      "execution_count": 0,
      "outputs": []
    },
    {
      "cell_type": "code",
      "metadata": {
        "id": "i1QFF5icU7Cd",
        "colab_type": "code",
        "colab": {}
      },
      "source": [
        "from sklearn.model_selection import train_test_split\n",
        "X_train, X_test, y_train, y_test = train_test_split(X, y, test_size = 1/5, random_state = 0)"
      ],
      "execution_count": 0,
      "outputs": []
    },
    {
      "cell_type": "code",
      "metadata": {
        "id": "QsxXh5PXU7Cg",
        "colab_type": "code",
        "colab": {}
      },
      "source": [
        "from sklearn.preprocessing import StandardScaler\n",
        "sc = StandardScaler()\n",
        "X_train = sc.fit_transform(X_train)\n",
        "X_test = sc.transform(X_test)"
      ],
      "execution_count": 0,
      "outputs": []
    },
    {
      "cell_type": "markdown",
      "metadata": {
        "id": "tf6g4ah6U7Ci",
        "colab_type": "text"
      },
      "source": [
        "# Analyzing Data using KNN"
      ]
    },
    {
      "cell_type": "markdown",
      "metadata": {
        "id": "fFPalLcYU7Cj",
        "colab_type": "text"
      },
      "source": [
        "Docmuentation: https://scikit-learn.org/stable/modules/generated/sklearn.neighbors.KNeighborsClassifier.html"
      ]
    },
    {
      "cell_type": "markdown",
      "metadata": {
        "id": "N8d6De4aU7Cj",
        "colab_type": "text"
      },
      "source": [
        "## 1. With standard values"
      ]
    },
    {
      "cell_type": "code",
      "metadata": {
        "id": "4FCiWLEkU7Ck",
        "colab_type": "code",
        "outputId": "83a569b5-009b-4dbc-cfca-c88b4147ead1",
        "colab": {}
      },
      "source": [
        "from sklearn.neighbors import KNeighborsClassifier\n",
        "classifier = KNeighborsClassifier(n_neighbors=5,metric='minkowski',p=2)\n",
        "classifier.fit(X_train,y_train)"
      ],
      "execution_count": 0,
      "outputs": [
        {
          "output_type": "execute_result",
          "data": {
            "text/plain": [
              "KNeighborsClassifier(algorithm='auto', leaf_size=30, metric='minkowski',\n",
              "                     metric_params=None, n_jobs=None, n_neighbors=5, p=2,\n",
              "                     weights='uniform')"
            ]
          },
          "metadata": {
            "tags": []
          },
          "execution_count": 6
        }
      ]
    },
    {
      "cell_type": "code",
      "metadata": {
        "id": "H8Qbr39IU7Cn",
        "colab_type": "code",
        "outputId": "3c18293f-5922-4eb3-d379-1078e8f9c574",
        "colab": {}
      },
      "source": [
        "print('Test accuracy {:.2f}%'.format(classifier.score(X_test,y_test)*100))"
      ],
      "execution_count": 0,
      "outputs": [
        {
          "output_type": "stream",
          "text": [
            "Test accuracy 81.97%\n"
          ],
          "name": "stdout"
        }
      ]
    },
    {
      "cell_type": "code",
      "metadata": {
        "id": "5CKkM_IbU7Cr",
        "colab_type": "code",
        "colab": {}
      },
      "source": [
        "y_pred = classifier.predict(X_test)"
      ],
      "execution_count": 0,
      "outputs": []
    },
    {
      "cell_type": "code",
      "metadata": {
        "id": "Ne-IS6vyU7Ct",
        "colab_type": "code",
        "outputId": "960a5ae2-a22d-4a25-e04d-31fdf92d5029",
        "colab": {}
      },
      "source": [
        "from sklearn.metrics import confusion_matrix\n",
        "cm = confusion_matrix(y_test, y_pred)\n",
        "print(cm)"
      ],
      "execution_count": 0,
      "outputs": [
        {
          "output_type": "stream",
          "text": [
            "[[21  6]\n",
            " [ 5 29]]\n"
          ],
          "name": "stdout"
        }
      ]
    },
    {
      "cell_type": "code",
      "metadata": {
        "id": "VAzze2fzU7Cw",
        "colab_type": "code",
        "outputId": "0c2107cd-4568-444a-acc8-ffcff8506b9a",
        "colab": {}
      },
      "source": [
        "print(\"Accuracy:\",str(round((21+29)/(21+5+29+6)*100,2)), \"%\")"
      ],
      "execution_count": 0,
      "outputs": [
        {
          "output_type": "stream",
          "text": [
            "Accuracy: 81.97 %\n"
          ],
          "name": "stdout"
        }
      ]
    },
    {
      "cell_type": "markdown",
      "metadata": {
        "id": "GmzGga4nU7Cy",
        "colab_type": "text"
      },
      "source": [
        "So, Logistic Regression fits better at predicting whether the patient as a heart disease or not compared to KNN with standard parameters. And according to these parameters, the classification is done according to which class (0/1) has the most number of neighbors of the 5 nearest neighbors selected."
      ]
    },
    {
      "cell_type": "markdown",
      "metadata": {
        "id": "pVJi9K0wU7Cz",
        "colab_type": "text"
      },
      "source": [
        "The distance metric chosen here was the standard minkowski. Let's which distance metric gives a better result. Here are the list of distance metrics in sklearn library:"
      ]
    },
    {
      "cell_type": "markdown",
      "metadata": {
        "id": "haXcrC9xU7C0",
        "colab_type": "text"
      },
      "source": [
        "## Metrics intended for real-valued vector spaces:"
      ]
    },
    {
      "cell_type": "markdown",
      "metadata": {
        "id": "GYpo0gVAU7C0",
        "colab_type": "raw"
      },
      "source": [
        "identifier    |      class name      |    args   |     distance function\n",
        "              \n",
        "“euclidean”       EuclideanDistance                   sqrt(sum((x - y)^2))\n",
        "\n",
        "“manhattan”       ManhattanDistance                   sum(|x - y|)\n",
        "\n",
        "“chebyshev”       ChebyshevDistance                   max(|x - y|)\n",
        "\n",
        "“minkowski”       MinkowskiDistance        p          sum(|x - y|^p)^(1/p)\n",
        "\n",
        "“wminkowski”      WMinkowskiDistance      p, w        sum(|w * (x - y)|^p)^(1/p)\n",
        "\n",
        "“seuclidean”      SEuclideanDistance       V          sqrt(sum((x - y)^2 / V))\n",
        "\n",
        "“mahalanobis”     MahalanobisDistance     V/VI        sqrt((x - y)' V^-1 (x - y))"
      ]
    },
    {
      "cell_type": "markdown",
      "metadata": {
        "id": "q1nT5e9_U7C1",
        "colab_type": "text"
      },
      "source": [
        "## Metrics intended for two-dimensional vector spaces: "
      ]
    },
    {
      "cell_type": "markdown",
      "metadata": {
        "id": "y1SC8AMfU7C1",
        "colab_type": "raw"
      },
      "source": [
        "identifier    |      class name      |    args   |                 distance function\n",
        "\n",
        "“haversine”       HaversineDistance                 2 arcsin(sqrt(sin^2(0.5*dx) + cos(x1)cos(x2)sin^2(0.5*dy)))"
      ]
    },
    {
      "cell_type": "markdown",
      "metadata": {
        "id": "RfHucs0uU7C1",
        "colab_type": "text"
      },
      "source": [
        "Note that the haversine distance metric requires data in the form of [latitude, longitude] and both inputs and outputs are in units of radians."
      ]
    },
    {
      "cell_type": "markdown",
      "metadata": {
        "id": "jHQXvOsyU7C2",
        "colab_type": "text"
      },
      "source": [
        "For other distance metrics , such as metrics intended for integer-valued vector spaces or user defined distance, refer to: \n",
        "https://scikit-learn.org/stable/modules/generated/sklearn.neighbors.DistanceMetric.html"
      ]
    },
    {
      "cell_type": "markdown",
      "metadata": {
        "id": "iZbXM2hfU7C2",
        "colab_type": "text"
      },
      "source": [
        "## 2. With more n_neighbors"
      ]
    },
    {
      "cell_type": "code",
      "metadata": {
        "id": "NgbjOI1GU7C3",
        "colab_type": "code",
        "outputId": "650739e7-d0b2-4f42-b67b-ed70980a0021",
        "colab": {}
      },
      "source": [
        "from sklearn.neighbors import KNeighborsClassifier\n",
        "classifier = KNeighborsClassifier(n_neighbors=7,metric='minkowski',p=2)\n",
        "classifier.fit(X_train,y_train)"
      ],
      "execution_count": 0,
      "outputs": [
        {
          "output_type": "execute_result",
          "data": {
            "text/plain": [
              "KNeighborsClassifier(algorithm='auto', leaf_size=30, metric='minkowski',\n",
              "                     metric_params=None, n_jobs=None, n_neighbors=7, p=2,\n",
              "                     weights='uniform')"
            ]
          },
          "metadata": {
            "tags": []
          },
          "execution_count": 14
        }
      ]
    },
    {
      "cell_type": "code",
      "metadata": {
        "id": "fgUGK96IU7C5",
        "colab_type": "code",
        "outputId": "f24eaaeb-3006-4a34-a964-d5745a2864a2",
        "colab": {}
      },
      "source": [
        "print('Test accuracy {:.2f}%'.format(classifier.score(X_test,y_test)*100))"
      ],
      "execution_count": 0,
      "outputs": [
        {
          "output_type": "stream",
          "text": [
            "Test accuracy 83.61%\n"
          ],
          "name": "stdout"
        }
      ]
    },
    {
      "cell_type": "markdown",
      "metadata": {
        "id": "SQ5y5j4mU7C7",
        "colab_type": "text"
      },
      "source": [
        "The accuracy has just increased. Let's try increasing the value to 10."
      ]
    },
    {
      "cell_type": "code",
      "metadata": {
        "id": "LvIDq9FEU7C7",
        "colab_type": "code",
        "outputId": "84105a82-e756-4293-c23c-44f119d30f81",
        "colab": {}
      },
      "source": [
        "from sklearn.neighbors import KNeighborsClassifier\n",
        "classifier = KNeighborsClassifier(n_neighbors=10,metric='minkowski',p=2)\n",
        "classifier.fit(X_train,y_train)"
      ],
      "execution_count": 0,
      "outputs": [
        {
          "output_type": "execute_result",
          "data": {
            "text/plain": [
              "KNeighborsClassifier(algorithm='auto', leaf_size=30, metric='minkowski',\n",
              "                     metric_params=None, n_jobs=None, n_neighbors=10, p=2,\n",
              "                     weights='uniform')"
            ]
          },
          "metadata": {
            "tags": []
          },
          "execution_count": 16
        }
      ]
    },
    {
      "cell_type": "code",
      "metadata": {
        "id": "-YouFlfbU7C-",
        "colab_type": "code",
        "outputId": "69372046-b6b7-4632-9e8a-333aa7cf824f",
        "colab": {}
      },
      "source": [
        "print('Test accuracy {:.2f}%'.format(classifier.score(X_test,y_test)*100))"
      ],
      "execution_count": 0,
      "outputs": [
        {
          "output_type": "stream",
          "text": [
            "Test accuracy 88.52%\n"
          ],
          "name": "stdout"
        }
      ]
    },
    {
      "cell_type": "markdown",
      "metadata": {
        "id": "CHR6Dd2KU7DA",
        "colab_type": "text"
      },
      "source": [
        "So, more the no of n_neighbors, the better is the performance of the machine. Good, now let's try changing the p value."
      ]
    },
    {
      "cell_type": "markdown",
      "metadata": {
        "id": "JsgWxTzUU7DB",
        "colab_type": "text"
      },
      "source": [
        "## 3. With p = 1 (Manhattan distance)"
      ]
    },
    {
      "cell_type": "markdown",
      "metadata": {
        "id": "8SF3JUzcU7DB",
        "colab_type": "text"
      },
      "source": [
        "The distance between two points measured along axes at right angles. In a plane with p1 at (x1, y1) and p2 at (x2, y2), it is |x1 - x2| + |y1 - y2|. Also, it comes under taxicab geometry, which is a form of geometry in which the usual distance function or metric of Euclidean geometry is replaced by a new metric in which the distance between two points is the sum of the absolute differences of their Cartesian coordinates."
      ]
    },
    {
      "cell_type": "code",
      "metadata": {
        "id": "GTS4HNI7U7DC",
        "colab_type": "code",
        "outputId": "cf4e0c73-78b3-4202-944b-de551b312bd5",
        "colab": {}
      },
      "source": [
        "from sklearn.neighbors import KNeighborsClassifier\n",
        "classifier = KNeighborsClassifier(n_neighbors=5,metric='minkowski',p=1)\n",
        "classifier.fit(X_train,y_train)"
      ],
      "execution_count": 0,
      "outputs": [
        {
          "output_type": "execute_result",
          "data": {
            "text/plain": [
              "KNeighborsClassifier(algorithm='auto', leaf_size=30, metric='minkowski',\n",
              "                     metric_params=None, n_jobs=None, n_neighbors=5, p=1,\n",
              "                     weights='uniform')"
            ]
          },
          "metadata": {
            "tags": []
          },
          "execution_count": 18
        }
      ]
    },
    {
      "cell_type": "code",
      "metadata": {
        "id": "-SshSa32U7DF",
        "colab_type": "code",
        "outputId": "7f0fb183-a637-42ed-d789-eb3858fb73d2",
        "colab": {}
      },
      "source": [
        "print('Test accuracy {:.2f}%'.format(classifier.score(X_test,y_test)*100))"
      ],
      "execution_count": 0,
      "outputs": [
        {
          "output_type": "stream",
          "text": [
            "Test accuracy 83.61%\n"
          ],
          "name": "stdout"
        }
      ]
    },
    {
      "cell_type": "markdown",
      "metadata": {
        "id": "Trogws0YU7DH",
        "colab_type": "text"
      },
      "source": [
        "So, it appears that using manhattan distance suits this dataset. Great, Now let's try the differerent distance metrics we talked about before."
      ]
    },
    {
      "cell_type": "markdown",
      "metadata": {
        "id": "feDRpnHzU7DI",
        "colab_type": "text"
      },
      "source": [
        "## 4. With different distance metrics"
      ]
    },
    {
      "cell_type": "code",
      "metadata": {
        "id": "CBCJs-1lU7DI",
        "colab_type": "code",
        "outputId": "9726a66c-e968-4986-fd73-cdb7503083ce",
        "colab": {}
      },
      "source": [
        "#let's try with euclidean\n",
        "\n",
        "from sklearn.neighbors import KNeighborsClassifier\n",
        "classifier = KNeighborsClassifier(n_neighbors=5,metric='euclidean',p=2)\n",
        "classifier.fit(X_train,y_train)"
      ],
      "execution_count": 0,
      "outputs": [
        {
          "output_type": "execute_result",
          "data": {
            "text/plain": [
              "KNeighborsClassifier(algorithm='auto', leaf_size=30, metric='euclidean',\n",
              "                     metric_params=None, n_jobs=None, n_neighbors=5, p=2,\n",
              "                     weights='uniform')"
            ]
          },
          "metadata": {
            "tags": []
          },
          "execution_count": 20
        }
      ]
    },
    {
      "cell_type": "code",
      "metadata": {
        "id": "3QmOwfTvU7DK",
        "colab_type": "code",
        "outputId": "6ecc8302-b23e-4487-d38d-31c3bc8f6ff2",
        "colab": {}
      },
      "source": [
        "print('Test accuracy {:.2f}%'.format(classifier.score(X_test,y_test)*100))"
      ],
      "execution_count": 0,
      "outputs": [
        {
          "output_type": "stream",
          "text": [
            "Test accuracy 81.97%\n"
          ],
          "name": "stdout"
        }
      ]
    },
    {
      "cell_type": "markdown",
      "metadata": {
        "id": "zmPOC8qvU7DM",
        "colab_type": "text"
      },
      "source": [
        "Nope, no difference. Let's try manhattan."
      ]
    },
    {
      "cell_type": "code",
      "metadata": {
        "id": "hLbYmh_AU7DM",
        "colab_type": "code",
        "outputId": "eb9b59cc-776e-4815-dfe0-ee2e58249537",
        "colab": {}
      },
      "source": [
        "from sklearn.neighbors import KNeighborsClassifier\n",
        "classifier = KNeighborsClassifier(n_neighbors=5,metric='manhattan',p=2)\n",
        "classifier.fit(X_train,y_train)"
      ],
      "execution_count": 0,
      "outputs": [
        {
          "output_type": "execute_result",
          "data": {
            "text/plain": [
              "KNeighborsClassifier(algorithm='auto', leaf_size=30, metric='manhattan',\n",
              "                     metric_params=None, n_jobs=None, n_neighbors=5, p=2,\n",
              "                     weights='uniform')"
            ]
          },
          "metadata": {
            "tags": []
          },
          "execution_count": 22
        }
      ]
    },
    {
      "cell_type": "code",
      "metadata": {
        "id": "8Xz4bEMcU7DO",
        "colab_type": "code",
        "outputId": "4d804329-55f4-4120-f268-c615189afd47",
        "colab": {}
      },
      "source": [
        "print('Test accuracy {:.2f}%'.format(classifier.score(X_test,y_test)*100))"
      ],
      "execution_count": 0,
      "outputs": [
        {
          "output_type": "stream",
          "text": [
            "Test accuracy 83.61%\n"
          ],
          "name": "stdout"
        }
      ]
    },
    {
      "cell_type": "markdown",
      "metadata": {
        "id": "4um_NwtHU7DQ",
        "colab_type": "text"
      },
      "source": [
        "Yup, better. Let's try wminkowski then."
      ]
    },
    {
      "cell_type": "code",
      "metadata": {
        "id": "EkugzGSUU7DQ",
        "colab_type": "code",
        "colab": {}
      },
      "source": [
        "from sklearn.neighbors import KNeighborsClassifier\n",
        "classifier = KNeighborsClassifier(n_neighbors=5,metric='wminkowski',p=2)\n",
        "classifier.fit(X_train,y_train)\n",
        "\n",
        "#Didnt work.. has 2 positional arguments."
      ],
      "execution_count": 0,
      "outputs": []
    },
    {
      "cell_type": "markdown",
      "metadata": {
        "id": "mUxeS2sLU7DT",
        "colab_type": "text"
      },
      "source": [
        "Couldn't find anywhere how to calculate and call wminkowski as the second argument with KNeighborsClassifier (they had used different files such as HBD).. moving on."
      ]
    },
    {
      "cell_type": "markdown",
      "metadata": {
        "id": "lnlPyKsuU7DT",
        "colab_type": "text"
      },
      "source": [
        "## Best performance set"
      ]
    },
    {
      "cell_type": "code",
      "metadata": {
        "id": "08nloPh3U7DT",
        "colab_type": "code",
        "outputId": "58b12dcc-6ce6-49f7-d267-e856c59aab34",
        "colab": {}
      },
      "source": [
        "from sklearn.neighbors import KNeighborsClassifier\n",
        "classifier = KNeighborsClassifier(n_neighbors=10,metric='minkowski',p=2)\n",
        "classifier.fit(X_train,y_train)"
      ],
      "execution_count": 0,
      "outputs": [
        {
          "output_type": "execute_result",
          "data": {
            "text/plain": [
              "KNeighborsClassifier(algorithm='auto', leaf_size=30, metric='minkowski',\n",
              "                     metric_params=None, n_jobs=None, n_neighbors=10, p=2,\n",
              "                     weights='uniform')"
            ]
          },
          "metadata": {
            "tags": []
          },
          "execution_count": 45
        }
      ]
    },
    {
      "cell_type": "code",
      "metadata": {
        "id": "ew3-JH4gU7DV",
        "colab_type": "code",
        "outputId": "486e0831-5128-48df-860c-d9b504d27d10",
        "colab": {}
      },
      "source": [
        "print('Test accuracy {:.2f}%'.format(classifier.score(X_test,y_test)*100))"
      ],
      "execution_count": 0,
      "outputs": [
        {
          "output_type": "stream",
          "text": [
            "Test accuracy 88.52%\n"
          ],
          "name": "stdout"
        }
      ]
    },
    {
      "cell_type": "markdown",
      "metadata": {
        "id": "XDl6xjmHU7DX",
        "colab_type": "text"
      },
      "source": [
        "Increasing the n_neighbors is reducing the performance of the classifier. So 10 neighbors is the optimal value."
      ]
    },
    {
      "cell_type": "code",
      "metadata": {
        "id": "KXMBPN0ZU7DX",
        "colab_type": "code",
        "colab": {}
      },
      "source": [
        ""
      ],
      "execution_count": 0,
      "outputs": []
    }
  ]
}