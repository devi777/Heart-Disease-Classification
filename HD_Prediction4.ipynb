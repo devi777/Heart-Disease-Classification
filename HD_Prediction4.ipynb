{
  "nbformat": 4,
  "nbformat_minor": 0,
  "metadata": {
    "kernelspec": {
      "display_name": "Python 3",
      "language": "python",
      "name": "python3"
    },
    "language_info": {
      "codemirror_mode": {
        "name": "ipython",
        "version": 3
      },
      "file_extension": ".py",
      "mimetype": "text/x-python",
      "name": "python",
      "nbconvert_exporter": "python",
      "pygments_lexer": "ipython3",
      "version": "3.7.6"
    },
    "colab": {
      "name": "HD_Prediction4.ipynb",
      "provenance": [],
      "include_colab_link": true
    }
  },
  "cells": [
    {
      "cell_type": "markdown",
      "metadata": {
        "id": "view-in-github",
        "colab_type": "text"
      },
      "source": [
        "<a href=\"https://colab.research.google.com/github/devi777/Heart-Disease-Classification/blob/master/HD_Prediction4.ipynb\" target=\"_parent\"><img src=\"https://colab.research.google.com/assets/colab-badge.svg\" alt=\"Open In Colab\"/></a>"
      ]
    },
    {
      "cell_type": "markdown",
      "metadata": {
        "id": "n3NXZlLfaC6o",
        "colab_type": "text"
      },
      "source": [
        "# Contents\n",
        "\n",
        "1. Decision Tree Classification\n",
        "2. Random Forest Classification"
      ]
    },
    {
      "cell_type": "markdown",
      "metadata": {
        "id": "-Cx6FnL4-VJY",
        "colab_type": "text"
      },
      "source": [
        "# Pre-processing Data"
      ]
    },
    {
      "cell_type": "code",
      "metadata": {
        "id": "tvnZGdut-VJZ",
        "colab_type": "code",
        "colab": {}
      },
      "source": [
        "# Importing the libraries\n",
        "import numpy as np\n",
        "import pandas as pd\n",
        "import matplotlib.pyplot as plt\n",
        "import seaborn as sns\n",
        "from sklearn.model_selection import train_test_split\n",
        "import warnings\n",
        "warnings.filterwarnings('ignore')"
      ],
      "execution_count": 0,
      "outputs": []
    },
    {
      "cell_type": "code",
      "metadata": {
        "id": "NsXujPcH-VJc",
        "colab_type": "code",
        "colab": {}
      },
      "source": [
        "# Importing the dataset\n",
        "df = pd.read_csv('heart.csv')"
      ],
      "execution_count": 0,
      "outputs": []
    },
    {
      "cell_type": "code",
      "metadata": {
        "id": "OLewG0bY-VJf",
        "colab_type": "code",
        "colab": {}
      },
      "source": [
        "X = df.iloc[:,:-1].values\n",
        "y = df.iloc[:,-1].values"
      ],
      "execution_count": 0,
      "outputs": []
    },
    {
      "cell_type": "code",
      "metadata": {
        "id": "FH5C-YkP-VJh",
        "colab_type": "code",
        "colab": {}
      },
      "source": [
        "# Splitting the dataset into the Training set and Test set\n",
        "from sklearn.model_selection import train_test_split\n",
        "X_train, X_test, y_train, y_test = train_test_split(X, y, test_size = 0.25, random_state = 0)"
      ],
      "execution_count": 0,
      "outputs": []
    },
    {
      "cell_type": "code",
      "metadata": {
        "id": "6491a7Up-VJk",
        "colab_type": "code",
        "colab": {}
      },
      "source": [
        "# Feature Scaling\n",
        "from sklearn.preprocessing import StandardScaler\n",
        "sc = StandardScaler()\n",
        "X_train = sc.fit_transform(X_train)\n",
        "X_test = sc.transform(X_test)"
      ],
      "execution_count": 0,
      "outputs": []
    },
    {
      "cell_type": "markdown",
      "metadata": {
        "id": "jM2u20p8-VJm",
        "colab_type": "text"
      },
      "source": [
        "# Analyzing Data using Decision Tree"
      ]
    },
    {
      "cell_type": "code",
      "metadata": {
        "id": "oBZRLH_V-VJn",
        "colab_type": "code",
        "outputId": "9ae3cb14-ac3e-4a31-9584-969919f5e8cb",
        "colab": {}
      },
      "source": [
        "# Fitting classifier to the Training set\n",
        "from sklearn.tree import DecisionTreeClassifier\n",
        "classifier = DecisionTreeClassifier(criterion='entropy',\n",
        "                                    random_state=0)\n",
        "classifier.fit(X_train,y_train)"
      ],
      "execution_count": 0,
      "outputs": [
        {
          "output_type": "execute_result",
          "data": {
            "text/plain": [
              "DecisionTreeClassifier(ccp_alpha=0.0, class_weight=None, criterion='entropy',\n",
              "                       max_depth=None, max_features=None, max_leaf_nodes=None,\n",
              "                       min_impurity_decrease=0.0, min_impurity_split=None,\n",
              "                       min_samples_leaf=1, min_samples_split=2,\n",
              "                       min_weight_fraction_leaf=0.0, presort='deprecated',\n",
              "                       random_state=0, splitter='best')"
            ]
          },
          "metadata": {
            "tags": []
          },
          "execution_count": 54
        }
      ]
    },
    {
      "cell_type": "code",
      "metadata": {
        "id": "PH2FKo2z-VJq",
        "colab_type": "code",
        "colab": {}
      },
      "source": [
        "# Predicting the Test set results\n",
        "y_pred = classifier.predict(X_test)"
      ],
      "execution_count": 0,
      "outputs": []
    },
    {
      "cell_type": "code",
      "metadata": {
        "id": "GVbzuVay-VJt",
        "colab_type": "code",
        "outputId": "a25c6b51-be76-40f3-802d-165b3f551a93",
        "colab": {}
      },
      "source": [
        "# Making the Confusion Matrix\n",
        "from sklearn.metrics import confusion_matrix\n",
        "cm = confusion_matrix(y_test, y_pred)\n",
        "print(cm)"
      ],
      "execution_count": 0,
      "outputs": [
        {
          "output_type": "stream",
          "text": [
            "[[24  9]\n",
            " [ 6 37]]\n"
          ],
          "name": "stdout"
        }
      ]
    },
    {
      "cell_type": "code",
      "metadata": {
        "id": "Guw6eaCF-VJv",
        "colab_type": "code",
        "outputId": "d876eb67-4fba-4afc-fe8f-d58bb6ced4ed",
        "colab": {}
      },
      "source": [
        "print('Train accuracy {:.2f}%'.format(classifier.score(X_train,y_train)*100))"
      ],
      "execution_count": 0,
      "outputs": [
        {
          "output_type": "stream",
          "text": [
            "Train accuracy 100.00%\n"
          ],
          "name": "stdout"
        }
      ]
    },
    {
      "cell_type": "markdown",
      "metadata": {
        "id": "2sTZPqhO-VJy",
        "colab_type": "text"
      },
      "source": [
        "The problem with Decision Tree and Random Forest Classification is that they overfit the training set. They try to capture the points that lie among the opposite target points. "
      ]
    },
    {
      "cell_type": "code",
      "metadata": {
        "id": "pyzQCWMy-VJy",
        "colab_type": "code",
        "outputId": "5c4e5f69-03b6-4f50-b079-f67429f4f223",
        "colab": {}
      },
      "source": [
        "print('Test accuracy {:.2f}%'.format(classifier.score(X_test,y_test)*100))"
      ],
      "execution_count": 0,
      "outputs": [
        {
          "output_type": "stream",
          "text": [
            "Test accuracy 80.26%\n"
          ],
          "name": "stdout"
        }
      ]
    },
    {
      "cell_type": "markdown",
      "metadata": {
        "id": "9H_DIT3j-VJ3",
        "colab_type": "text"
      },
      "source": [
        "Let's try if we can prevent this overfitting by variating exploring and tuning the standard parameters. "
      ]
    },
    {
      "cell_type": "markdown",
      "metadata": {
        "id": "_u4pHM3e-VJ3",
        "colab_type": "raw"
      },
      "source": [
        "\"We can avoid overfitting by changing the parameters like\n",
        "max_leaf_nodes\n",
        "min_samples_leaf\n",
        "max_depth\n",
        "Pruning Parameters\n",
        "max_leaf_nodes\n",
        "Reduce the number of leaf nodes\n",
        "min_samples_leaf\n",
        "Restrict the size of sample leaf\n",
        "Minimum sample size in terminal nodes can be fixed to 30, 100, 300 or 5% of total\n",
        "max_depth\n",
        "Reduce the depth of the tree to build a generalized tree\n",
        "Set the depth of the tree to 3, 5, 10 depending after verification on test data.\"\n",
        "\n",
        "Courtesy: https://statinfer.com/"
      ]
    },
    {
      "cell_type": "code",
      "metadata": {
        "id": "TFKLtj6o-VJ3",
        "colab_type": "code",
        "outputId": "a790a2ab-783c-4f15-a27a-6689db84cdf3",
        "colab": {}
      },
      "source": [
        "# Fitting classifier to the Training set , Try 2\n",
        "from sklearn.tree import DecisionTreeClassifier\n",
        "classifier = DecisionTreeClassifier(criterion='entropy', max_leaf_nodes= 7, max_depth= 4, min_samples_leaf=5, \n",
        "                                    random_state=0)\n",
        "classifier.fit(X_train,y_train)"
      ],
      "execution_count": 0,
      "outputs": [
        {
          "output_type": "execute_result",
          "data": {
            "text/plain": [
              "DecisionTreeClassifier(ccp_alpha=0.0, class_weight=None, criterion='entropy',\n",
              "                       max_depth=4, max_features=None, max_leaf_nodes=7,\n",
              "                       min_impurity_decrease=0.0, min_impurity_split=None,\n",
              "                       min_samples_leaf=5, min_samples_split=2,\n",
              "                       min_weight_fraction_leaf=0.0, presort='deprecated',\n",
              "                       random_state=0, splitter='best')"
            ]
          },
          "metadata": {
            "tags": []
          },
          "execution_count": 59
        }
      ]
    },
    {
      "cell_type": "code",
      "metadata": {
        "id": "aTo7qRa1-VJ6",
        "colab_type": "code",
        "outputId": "c11d21e5-feb5-42ff-d956-577733b97fbf",
        "colab": {}
      },
      "source": [
        "print('Train accuracy {:.2f}%'.format(classifier.score(X_train,y_train)*100))"
      ],
      "execution_count": 0,
      "outputs": [
        {
          "output_type": "stream",
          "text": [
            "Train accuracy 86.34%\n"
          ],
          "name": "stdout"
        }
      ]
    },
    {
      "cell_type": "code",
      "metadata": {
        "id": "2S5L4kqI-VJ8",
        "colab_type": "code",
        "outputId": "8d3c9401-4481-4d54-a632-3c625d0de477",
        "colab": {}
      },
      "source": [
        "print('Test accuracy {:.2f}%'.format(classifier.score(X_test,y_test)*100))"
      ],
      "execution_count": 0,
      "outputs": [
        {
          "output_type": "stream",
          "text": [
            "Test accuracy 76.32%\n"
          ],
          "name": "stdout"
        }
      ]
    },
    {
      "cell_type": "code",
      "metadata": {
        "id": "n9v6dblP-VJ_",
        "colab_type": "code",
        "outputId": "dde50cba-dad2-42e6-b4e0-766ba2198ecf",
        "colab": {}
      },
      "source": [
        "# Fitting classifier to the Training set , Try 3\n",
        "from sklearn.tree import DecisionTreeClassifier\n",
        "classifier = DecisionTreeClassifier(criterion='entropy', max_leaf_nodes= 40, max_depth= 5, min_samples_leaf= 5,\n",
        "                                    random_state=0)\n",
        "classifier.fit(X_train,y_train)"
      ],
      "execution_count": 0,
      "outputs": [
        {
          "output_type": "execute_result",
          "data": {
            "text/plain": [
              "DecisionTreeClassifier(ccp_alpha=0.0, class_weight=None, criterion='entropy',\n",
              "                       max_depth=5, max_features=None, max_leaf_nodes=40,\n",
              "                       min_impurity_decrease=0.0, min_impurity_split=None,\n",
              "                       min_samples_leaf=5, min_samples_split=2,\n",
              "                       min_weight_fraction_leaf=0.0, presort='deprecated',\n",
              "                       random_state=0, splitter='best')"
            ]
          },
          "metadata": {
            "tags": []
          },
          "execution_count": 68
        }
      ]
    },
    {
      "cell_type": "code",
      "metadata": {
        "id": "wMfRCcfA-VKB",
        "colab_type": "code",
        "outputId": "d6cb591c-bdca-4d8d-d315-e4f40b70a836",
        "colab": {}
      },
      "source": [
        "print('Train accuracy {:.2f}%'.format(classifier.score(X_train,y_train)*100))"
      ],
      "execution_count": 0,
      "outputs": [
        {
          "output_type": "stream",
          "text": [
            "Train accuracy 88.55%\n"
          ],
          "name": "stdout"
        }
      ]
    },
    {
      "cell_type": "code",
      "metadata": {
        "id": "iUFUcpot-VKD",
        "colab_type": "code",
        "outputId": "75b1109d-8953-42fc-96b0-949b39505436",
        "colab": {}
      },
      "source": [
        "print('Test accuracy {:.2f}%'.format(classifier.score(X_test,y_test)*100))"
      ],
      "execution_count": 0,
      "outputs": [
        {
          "output_type": "stream",
          "text": [
            "Test accuracy 77.63%\n"
          ],
          "name": "stdout"
        }
      ]
    },
    {
      "cell_type": "code",
      "metadata": {
        "id": "LrvD7FqS-VKF",
        "colab_type": "code",
        "outputId": "4b6c5d1d-5e50-4ccd-9928-7ea424b5e0a8",
        "colab": {}
      },
      "source": [
        "# Fitting classifier to the Training set , Try 4\n",
        "from sklearn.tree import DecisionTreeClassifier\n",
        "classifier = DecisionTreeClassifier(criterion='gini', max_leaf_nodes= 200, max_depth= 20, max_features= 13,min_samples_leaf= 5,\n",
        "                                    random_state=0)\n",
        "classifier.fit(X_train,y_train)"
      ],
      "execution_count": 0,
      "outputs": [
        {
          "output_type": "execute_result",
          "data": {
            "text/plain": [
              "DecisionTreeClassifier(ccp_alpha=0.0, class_weight=None, criterion='gini',\n",
              "                       max_depth=20, max_features=13, max_leaf_nodes=200,\n",
              "                       min_impurity_decrease=0.0, min_impurity_split=None,\n",
              "                       min_samples_leaf=5, min_samples_split=2,\n",
              "                       min_weight_fraction_leaf=0.0, presort='deprecated',\n",
              "                       random_state=0, splitter='best')"
            ]
          },
          "metadata": {
            "tags": []
          },
          "execution_count": 85
        }
      ]
    },
    {
      "cell_type": "code",
      "metadata": {
        "id": "8nsHnooc-VKI",
        "colab_type": "code",
        "outputId": "375633ed-9298-403e-da7b-13c1cec2c356",
        "colab": {}
      },
      "source": [
        "print('Test accuracy {:.2f}%'.format(classifier.score(X_train,y_train)*100))"
      ],
      "execution_count": 0,
      "outputs": [
        {
          "output_type": "stream",
          "text": [
            "Test accuracy 88.99%\n"
          ],
          "name": "stdout"
        }
      ]
    },
    {
      "cell_type": "code",
      "metadata": {
        "id": "zxWCDe65-VKK",
        "colab_type": "code",
        "outputId": "5b185a53-ac24-4545-c0a2-9a73cc8fee35",
        "colab": {}
      },
      "source": [
        "print('Test accuracy {:.2f}%'.format(classifier.score(X_test,y_test)*100))"
      ],
      "execution_count": 0,
      "outputs": [
        {
          "output_type": "stream",
          "text": [
            "Test accuracy 78.95%\n"
          ],
          "name": "stdout"
        }
      ]
    },
    {
      "cell_type": "markdown",
      "metadata": {
        "id": "CCB3xwzb-VKM",
        "colab_type": "text"
      },
      "source": [
        "Nope, doesn't work well on thi set ;)"
      ]
    },
    {
      "cell_type": "markdown",
      "metadata": {
        "id": "GHfMFoWS-VKM",
        "colab_type": "text"
      },
      "source": [
        "# Analyzing Data using Random Forest"
      ]
    },
    {
      "cell_type": "code",
      "metadata": {
        "id": "7QSE1maW-VKN",
        "colab_type": "code",
        "outputId": "d2c39417-a19b-4a85-ac95-c92568e1cb0b",
        "colab": {}
      },
      "source": [
        "# Fitting classifier to the Training set\n",
        "from sklearn.ensemble import RandomForestClassifier\n",
        "classifier = RandomForestClassifier(n_estimators=10,criterion='entropy',random_state=0)\n",
        "classifier.fit(X_train,y_train)"
      ],
      "execution_count": 0,
      "outputs": [
        {
          "output_type": "execute_result",
          "data": {
            "text/plain": [
              "RandomForestClassifier(bootstrap=True, ccp_alpha=0.0, class_weight=None,\n",
              "                       criterion='entropy', max_depth=None, max_features='auto',\n",
              "                       max_leaf_nodes=None, max_samples=None,\n",
              "                       min_impurity_decrease=0.0, min_impurity_split=None,\n",
              "                       min_samples_leaf=1, min_samples_split=2,\n",
              "                       min_weight_fraction_leaf=0.0, n_estimators=10,\n",
              "                       n_jobs=None, oob_score=False, random_state=0, verbose=0,\n",
              "                       warm_start=False)"
            ]
          },
          "metadata": {
            "tags": []
          },
          "execution_count": 88
        }
      ]
    },
    {
      "cell_type": "code",
      "metadata": {
        "id": "lhbHL6k3-VKP",
        "colab_type": "code",
        "outputId": "68d14e88-74f8-48d0-fb9e-36ef121ad0bd",
        "colab": {}
      },
      "source": [
        "print('Train accuracy {:.2f}%'.format(classifier.score(X_train,y_train)*100))"
      ],
      "execution_count": 0,
      "outputs": [
        {
          "output_type": "stream",
          "text": [
            "Test accuracy 98.68%\n"
          ],
          "name": "stdout"
        }
      ]
    },
    {
      "cell_type": "code",
      "metadata": {
        "id": "AE4iJo4J-VKR",
        "colab_type": "code",
        "outputId": "e4891b5d-0f21-417e-8646-56c5c1301187",
        "colab": {}
      },
      "source": [
        "print('Test accuracy {:.2f}%'.format(classifier.score(X_test,y_test)*100))"
      ],
      "execution_count": 0,
      "outputs": [
        {
          "output_type": "stream",
          "text": [
            "Test accuracy 82.89%\n"
          ],
          "name": "stdout"
        }
      ]
    },
    {
      "cell_type": "markdown",
      "metadata": {
        "id": "NCoxbgM8-VKT",
        "colab_type": "text"
      },
      "source": [
        "And again, it overfits. Let's try to variate here as well."
      ]
    },
    {
      "cell_type": "code",
      "metadata": {
        "id": "_RfsyF7A-VKT",
        "colab_type": "code",
        "outputId": "05207bea-a39d-4307-b891-3850acd03331",
        "colab": {}
      },
      "source": [
        "# Fitting classifier to the Training set\n",
        "from sklearn.ensemble import RandomForestClassifier\n",
        "classifier = RandomForestClassifier(n_estimators=20,criterion='entropy',random_state=0, max_features= 10, max_depth=10,\n",
        "                                   min_samples_leaf=3)\n",
        "classifier.fit(X_train,y_train)"
      ],
      "execution_count": 0,
      "outputs": [
        {
          "output_type": "execute_result",
          "data": {
            "text/plain": [
              "RandomForestClassifier(bootstrap=True, ccp_alpha=0.0, class_weight=None,\n",
              "                       criterion='entropy', max_depth=10, max_features=10,\n",
              "                       max_leaf_nodes=None, max_samples=None,\n",
              "                       min_impurity_decrease=0.0, min_impurity_split=None,\n",
              "                       min_samples_leaf=3, min_samples_split=2,\n",
              "                       min_weight_fraction_leaf=0.0, n_estimators=20,\n",
              "                       n_jobs=None, oob_score=False, random_state=0, verbose=0,\n",
              "                       warm_start=False)"
            ]
          },
          "metadata": {
            "tags": []
          },
          "execution_count": 98
        }
      ]
    },
    {
      "cell_type": "code",
      "metadata": {
        "id": "kwkzNQIt-VKV",
        "colab_type": "code",
        "outputId": "0606255a-49c9-4fe0-8142-70b029e4f4ce",
        "colab": {}
      },
      "source": [
        "print('Train accuracy {:.2f}%'.format(classifier.score(X_train,y_train)*100))"
      ],
      "execution_count": 0,
      "outputs": [
        {
          "output_type": "stream",
          "text": [
            "Train accuracy 96.92%\n"
          ],
          "name": "stdout"
        }
      ]
    },
    {
      "cell_type": "code",
      "metadata": {
        "id": "X1umVKam-VKY",
        "colab_type": "code",
        "outputId": "898d3ae2-9c47-4d70-ef8f-e042c0e21dc5",
        "colab": {}
      },
      "source": [
        "print('Test accuracy {:.2f}%'.format(classifier.score(X_test,y_test)*100))"
      ],
      "execution_count": 0,
      "outputs": [
        {
          "output_type": "stream",
          "text": [
            "Test accuracy 81.58%\n"
          ],
          "name": "stdout"
        }
      ]
    },
    {
      "cell_type": "code",
      "metadata": {
        "id": "eQ9yJXWr-VKa",
        "colab_type": "code",
        "outputId": "6863007a-87e2-4c6c-efec-86996378496e",
        "colab": {}
      },
      "source": [
        "# Fitting classifier to the Training set\n",
        "from sklearn.ensemble import RandomForestClassifier\n",
        "classifier = RandomForestClassifier(n_estimators=20,random_state=0, max_features= 10, max_depth=10,\n",
        "                                   min_samples_leaf=5)\n",
        "classifier.fit(X_train,y_train)"
      ],
      "execution_count": 0,
      "outputs": [
        {
          "output_type": "execute_result",
          "data": {
            "text/plain": [
              "RandomForestClassifier(bootstrap=True, ccp_alpha=0.0, class_weight=None,\n",
              "                       criterion='gini', max_depth=10, max_features=10,\n",
              "                       max_leaf_nodes=None, max_samples=None,\n",
              "                       min_impurity_decrease=0.0, min_impurity_split=None,\n",
              "                       min_samples_leaf=5, min_samples_split=2,\n",
              "                       min_weight_fraction_leaf=0.0, n_estimators=20,\n",
              "                       n_jobs=None, oob_score=False, random_state=0, verbose=0,\n",
              "                       warm_start=False)"
            ]
          },
          "metadata": {
            "tags": []
          },
          "execution_count": 110
        }
      ]
    },
    {
      "cell_type": "code",
      "metadata": {
        "id": "RslnipTJ-VKc",
        "colab_type": "code",
        "outputId": "13733178-ada4-4751-b482-7f87e48d4497",
        "colab": {}
      },
      "source": [
        "print('Train accuracy {:.2f}%'.format(classifier.score(X_train,y_train)*100))"
      ],
      "execution_count": 0,
      "outputs": [
        {
          "output_type": "stream",
          "text": [
            "Train accuracy 91.19%\n"
          ],
          "name": "stdout"
        }
      ]
    },
    {
      "cell_type": "code",
      "metadata": {
        "id": "MLJuQLOZ-VKe",
        "colab_type": "code",
        "outputId": "af184ab0-da94-4ded-87b9-0fbe5b385bac",
        "colab": {}
      },
      "source": [
        "print('Test accuracy {:.2f}%'.format(classifier.score(X_test,y_test)*100))"
      ],
      "execution_count": 0,
      "outputs": [
        {
          "output_type": "stream",
          "text": [
            "Test accuracy 81.58%\n"
          ],
          "name": "stdout"
        }
      ]
    },
    {
      "cell_type": "markdown",
      "metadata": {
        "id": "uxBIC6ZY-VKj",
        "colab_type": "text"
      },
      "source": [
        "Nope, no variation helps. Random Forest doesn't either. An expected result :) "
      ]
    },
    {
      "cell_type": "code",
      "metadata": {
        "id": "6gfQZH02-VKk",
        "colab_type": "code",
        "outputId": "847c8404-0295-4715-d550-9b5a616ecd32",
        "colab": {}
      },
      "source": [
        "# Fitting classifier to the Training set\n",
        "from sklearn.ensemble import RandomForestClassifier\n",
        "classifier = RandomForestClassifier(n_estimators=20,random_state=0)\n",
        "classifier.fit(X_train,y_train)"
      ],
      "execution_count": 0,
      "outputs": [
        {
          "output_type": "execute_result",
          "data": {
            "text/plain": [
              "RandomForestClassifier(bootstrap=True, ccp_alpha=0.0, class_weight=None,\n",
              "                       criterion='gini', max_depth=None, max_features='auto',\n",
              "                       max_leaf_nodes=None, max_samples=None,\n",
              "                       min_impurity_decrease=0.0, min_impurity_split=None,\n",
              "                       min_samples_leaf=1, min_samples_split=2,\n",
              "                       min_weight_fraction_leaf=0.0, n_estimators=20,\n",
              "                       n_jobs=None, oob_score=False, random_state=0, verbose=0,\n",
              "                       warm_start=False)"
            ]
          },
          "metadata": {
            "tags": []
          },
          "execution_count": 113
        }
      ]
    },
    {
      "cell_type": "code",
      "metadata": {
        "id": "6IOvEExT-VKo",
        "colab_type": "code",
        "outputId": "b2c0006b-9084-419d-d087-d7e9da1fe0e8",
        "colab": {}
      },
      "source": [
        "print('Train accuracy {:.2f}%'.format(classifier.score(X_train,y_train)*100))"
      ],
      "execution_count": 0,
      "outputs": [
        {
          "output_type": "stream",
          "text": [
            "Train accuracy 100.00%\n"
          ],
          "name": "stdout"
        }
      ]
    },
    {
      "cell_type": "code",
      "metadata": {
        "id": "2WEfDrDg-VKr",
        "colab_type": "code",
        "outputId": "b4256cbf-e8dc-474b-d498-4ff102d3e000",
        "colab": {}
      },
      "source": [
        "print('Test accuracy {:.2f}%'.format(classifier.score(X_test,y_test)*100))"
      ],
      "execution_count": 0,
      "outputs": [
        {
          "output_type": "stream",
          "text": [
            "Test accuracy 84.21%\n"
          ],
          "name": "stdout"
        }
      ]
    },
    {
      "cell_type": "markdown",
      "metadata": {
        "id": "gcDMutTa-VKt",
        "colab_type": "text"
      },
      "source": [
        "Well it overfits, but has a good test accuracy. Guess , this is it"
      ]
    },
    {
      "cell_type": "code",
      "metadata": {
        "id": "mwms68c4-VKu",
        "colab_type": "code",
        "colab": {}
      },
      "source": [
        ""
      ],
      "execution_count": 0,
      "outputs": []
    }
  ]
}